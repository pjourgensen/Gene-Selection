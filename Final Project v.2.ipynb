{
 "cells": [
  {
   "cell_type": "markdown",
   "metadata": {},
   "source": [
    "# Imports"
   ]
  },
  {
   "cell_type": "code",
   "execution_count": 2,
   "metadata": {},
   "outputs": [
    {
     "name": "stderr",
     "output_type": "stream",
     "text": [
      "/anaconda3/lib/python3.6/site-packages/h5py/__init__.py:36: FutureWarning: Conversion of the second argument of issubdtype from `float` to `np.floating` is deprecated. In future, it will be treated as `np.float64 == np.dtype(float).type`.\n",
      "  from ._conv import register_converters as _register_converters\n"
     ]
    }
   ],
   "source": [
    "import pandas as pd\n",
    "import numpy as np\n",
    "import random\n",
    "\n",
    "import matplotlib.pyplot as plt\n",
    "%matplotlib inline\n",
    "plt.style.use('ggplot')\n",
    "import seaborn as sns\n",
    "\n",
    "import tensorflow as tf\n",
    "\n",
    "from sklearn.neighbors import KNeighborsClassifier\n",
    "from sklearn.metrics import accuracy_score\n",
    "from sklearn.model_selection import cross_val_score\n",
    "\n",
    "import pickle"
   ]
  },
  {
   "cell_type": "markdown",
   "metadata": {},
   "source": [
    "# Load Data"
   ]
  },
  {
   "cell_type": "code",
   "execution_count": 3,
   "metadata": {},
   "outputs": [],
   "source": [
    "df = pd.concat([pd.read_csv('data_set_ALL_AML_train.csv'),\n",
    "                pd.read_csv('data_set_ALL_AML_independent.csv')],axis=1)"
   ]
  },
  {
   "cell_type": "markdown",
   "metadata": {},
   "source": [
    "### Clean & Transpose"
   ]
  },
  {
   "cell_type": "code",
   "execution_count": 4,
   "metadata": {},
   "outputs": [],
   "source": [
    "patients = [i for i in df.columns if i[:4] != 'call']\n",
    "df = df.loc[:,patients]\n",
    "gene_description = df['Gene Description']\n",
    "df.drop('Gene Description',axis=1,inplace=True)\n",
    "df.set_index(df.iloc[:,0],inplace=True)\n",
    "df.drop('Gene Accession Number',axis=1,inplace=True)\n",
    "df = df.transpose()\n",
    "df.index = df.index.astype('int64')\n",
    "df.sort_index(inplace=True)"
   ]
  },
  {
   "cell_type": "markdown",
   "metadata": {},
   "source": [
    "### Load Target"
   ]
  },
  {
   "cell_type": "code",
   "execution_count": 5,
   "metadata": {},
   "outputs": [],
   "source": [
    "target = pd.read_csv('actual.csv')\n",
    "target.set_index('patient',inplace=True)\n",
    "target.index = target.index.astype('int64')\n",
    "target.sort_index(inplace=True)\n",
    "del target.index.name"
   ]
  },
  {
   "cell_type": "code",
   "execution_count": 6,
   "metadata": {},
   "outputs": [
    {
     "data": {
      "text/plain": [
       "ALL    47\n",
       "AML    25\n",
       "Name: cancer, dtype: int64"
      ]
     },
     "execution_count": 6,
     "metadata": {},
     "output_type": "execute_result"
    }
   ],
   "source": [
    "target.iloc[:,0].value_counts()"
   ]
  },
  {
   "cell_type": "code",
   "execution_count": 7,
   "metadata": {},
   "outputs": [],
   "source": [
    "def impute_target(x):\n",
    "    if x == 'ALL':\n",
    "        return 1\n",
    "    else:\n",
    "        return 0"
   ]
  },
  {
   "cell_type": "code",
   "execution_count": 8,
   "metadata": {},
   "outputs": [],
   "source": [
    "target['One-hot'] = target['cancer'].apply(lambda x: impute_target(x))"
   ]
  },
  {
   "cell_type": "markdown",
   "metadata": {},
   "source": [
    "# Neural Net Framework"
   ]
  },
  {
   "cell_type": "code",
   "execution_count": 159,
   "metadata": {},
   "outputs": [],
   "source": [
    "train = df.iloc[:38,:]\n",
    "test = df.iloc[38:,:]\n",
    "\n",
    "target_train = target.iloc[:38,1]\n",
    "target_test = target.iloc[38:,1]"
   ]
  },
  {
   "cell_type": "code",
   "execution_count": 9,
   "metadata": {},
   "outputs": [],
   "source": [
    "def subset(rows,columns,data,target):\n",
    "    return data.iloc[rows,columns], target.iloc[rows]"
   ]
  },
  {
   "cell_type": "code",
   "execution_count": 10,
   "metadata": {},
   "outputs": [],
   "source": [
    "num_rows = 30\n",
    "num_cols = 50\n",
    "\n",
    "train_rows = len(train)\n",
    "train_cols = len(train.columns)\n",
    "\n",
    "test_rows = len(test)"
   ]
  },
  {
   "cell_type": "code",
   "execution_count": 25,
   "metadata": {},
   "outputs": [],
   "source": [
    "#with open(\"genes.txt\", \"rb\") as fp:\n",
    "#    genes = pickle.load(fp)\n",
    "#\n",
    "#with open(\"predictions.txt\", \"rb\") as fp:\n",
    "#    predictions = pickle.load(fp)\n",
    "#\n",
    "#with open(\"accuracies.txt\", \"rb\") as fp:\n",
    "#    accuracies = pickle.load(fp)\n",
    "#\n",
    "#\n",
    "#genes = []\n",
    "#predictions = []\n",
    "#accuracies = []"
   ]
  },
  {
   "cell_type": "code",
   "execution_count": 12,
   "metadata": {},
   "outputs": [],
   "source": [
    "reps = 180\n",
    "for iters in range(reps): \n",
    "    #Suppress output except for error messages\n",
    "    tf.logging.set_verbosity(tf.logging.ERROR)\n",
    "\n",
    "    #Select Rows and Cols\n",
    "    rows = random.sample(range(train_rows),num_rows)\n",
    "    cols = random.sample(range(train_cols),num_cols)\n",
    "\n",
    "    #Save Genes used for model\n",
    "    genes.append(train.columns[cols])\n",
    "\n",
    "    #feature columns\n",
    "    feature_columns = []\n",
    "    for i in train.columns[cols]:\n",
    "        feature_columns.append(tf.feature_column.numeric_column(i))\n",
    "\n",
    "    #Model Initialization\n",
    "    classifier = tf.estimator.DNNClassifier(\n",
    "        feature_columns=feature_columns,\n",
    "        hidden_units=[25, 10, 5],\n",
    "        optimizer=tf.train.AdamOptimizer(1e-2),\n",
    "        n_classes=2,\n",
    "        dropout=0.2,\n",
    "    )\n",
    "\n",
    "    #Input Function\n",
    "    train_input_fn = tf.estimator.inputs.pandas_input_fn(\n",
    "        x=subset(rows,cols,train,target_train)[0],\n",
    "        y=subset(rows,cols,train,target_train)[1],\n",
    "        num_epochs=10,\n",
    "        batch_size=num_rows,\n",
    "        shuffle=True\n",
    "    )\n",
    "\n",
    "    #model training\n",
    "    classifier.train(input_fn=train_input_fn, steps=1000)\n",
    "\n",
    "    #eval function\n",
    "    test_input_fn = tf.estimator.inputs.pandas_input_fn(\n",
    "        x=test.iloc[:,cols],\n",
    "        y=target_test.iloc[:],\n",
    "        num_epochs=1,\n",
    "        shuffle=False\n",
    "    )\n",
    "\n",
    "    #predictions\n",
    "    preds = list(classifier.predict(test_input_fn))\n",
    "\n",
    "    pred_class = [p[\"classes\"] for p in preds]\n",
    "\n",
    "    preds = []\n",
    "\n",
    "    for i in range(len(pred_class)):\n",
    "        preds.append(int(pred_class[i][0]))\n",
    "\n",
    "    predictions.append(preds)\n",
    "\n",
    "    accuracies.append(accuracy_score(target_test,preds))"
   ]
  },
  {
   "cell_type": "code",
   "execution_count": 13,
   "metadata": {},
   "outputs": [],
   "source": [
    "#with open('genes.txt', 'wb') as fp:\n",
    "#    pickle.dump(genes, fp)\n",
    "#\n",
    "#with open('predictions.txt', 'wb') as fp:\n",
    "#    pickle.dump(predictions, fp)\n",
    "#    \n",
    "#with open('accuracies.txt', 'wb') as fp:\n",
    "#    pickle.dump(accuracies, fp)"
   ]
  },
  {
   "cell_type": "markdown",
   "metadata": {},
   "source": [
    "# Weighting Models"
   ]
  },
  {
   "cell_type": "code",
   "execution_count": 45,
   "metadata": {},
   "outputs": [],
   "source": [
    "#Convert Predictions to -1/+1\n",
    "for i in range(len(predictions)):\n",
    "    for j in range(len(predictions[i])):\n",
    "        if predictions[i][j] == 0:\n",
    "            predictions[i][j] = -1"
   ]
  },
  {
   "cell_type": "code",
   "execution_count": null,
   "metadata": {},
   "outputs": [],
   "source": [
    "#Convert Target Test Final Values\n",
    "target_final = [-1 if i==0 else i for i in target_test]"
   ]
  },
  {
   "cell_type": "code",
   "execution_count": 105,
   "metadata": {},
   "outputs": [],
   "source": [
    "def final_preds(pred_list,weights):\n",
    "    final_preds = []\n",
    "    for i in range(len(pred_list[0])):\n",
    "        pred_sum = 0\n",
    "        for j in range(len(pred_list)):\n",
    "            pred_sum += pred_list[j][i]*weights[j]\n",
    "        if pred_sum == 0:\n",
    "            final_preds.append(pred_sum)\n",
    "        else:\n",
    "            final_preds.append(pred_sum/abs(pred_sum))\n",
    "    return final_preds"
   ]
  },
  {
   "cell_type": "code",
   "execution_count": 74,
   "metadata": {},
   "outputs": [
    {
     "data": {
      "text/plain": [
       "0.5882352941176471"
      ]
     },
     "execution_count": 74,
     "metadata": {},
     "output_type": "execute_result"
    }
   ],
   "source": [
    "#Every model is treated equally\n",
    "weights1 = [1] * len(accuracies)\n",
    "\n",
    "#Final Predictions\n",
    "final_preds1 = final_preds(predictions,weights1)\n",
    "\n",
    "#Accuracy\n",
    "accuracy_score(target_final,final_preds1)"
   ]
  },
  {
   "cell_type": "code",
   "execution_count": 75,
   "metadata": {},
   "outputs": [
    {
     "data": {
      "text/plain": [
       "0.5882352941176471"
      ]
     },
     "execution_count": 75,
     "metadata": {},
     "output_type": "execute_result"
    }
   ],
   "source": [
    "#Every model is weighted by its accuracy\n",
    "final_preds2 = final_preds(predictions,accuracies)\n",
    "\n",
    "#Accuracy\n",
    "accuracy_score(target_final,final_preds2)"
   ]
  },
  {
   "cell_type": "code",
   "execution_count": 26,
   "metadata": {},
   "outputs": [],
   "source": [
    "#Cut off all models that predicted majority class only or performed worse\n",
    "mode = max(set(accuracies), key=accuracies.count)\n",
    "weights3 = []\n",
    "\n",
    "for i in accuracies:\n",
    "    if i <= mode:\n",
    "        weights3.append(0)\n",
    "    else:\n",
    "        weights3.append(i-mode)"
   ]
  },
  {
   "cell_type": "code",
   "execution_count": 27,
   "metadata": {},
   "outputs": [
    {
     "ename": "NameError",
     "evalue": "name 'final_preds' is not defined",
     "output_type": "error",
     "traceback": [
      "\u001b[0;31m---------------------------------------------------------------------------\u001b[0m",
      "\u001b[0;31mNameError\u001b[0m                                 Traceback (most recent call last)",
      "\u001b[0;32m<ipython-input-27-5db13470cba4>\u001b[0m in \u001b[0;36m<module>\u001b[0;34m()\u001b[0m\n\u001b[1;32m      1\u001b[0m \u001b[0;31m#Weight each model by above logic\u001b[0m\u001b[0;34m\u001b[0m\u001b[0;34m\u001b[0m\u001b[0m\n\u001b[0;32m----> 2\u001b[0;31m \u001b[0mfinal_preds3\u001b[0m \u001b[0;34m=\u001b[0m \u001b[0mfinal_preds\u001b[0m\u001b[0;34m(\u001b[0m\u001b[0mpredictions\u001b[0m\u001b[0;34m,\u001b[0m\u001b[0mweights3\u001b[0m\u001b[0;34m)\u001b[0m\u001b[0;34m\u001b[0m\u001b[0m\n\u001b[0m\u001b[1;32m      3\u001b[0m \u001b[0;34m\u001b[0m\u001b[0m\n\u001b[1;32m      4\u001b[0m \u001b[0;31m#Accuracy\u001b[0m\u001b[0;34m\u001b[0m\u001b[0;34m\u001b[0m\u001b[0m\n\u001b[1;32m      5\u001b[0m \u001b[0maccuracy_score\u001b[0m\u001b[0;34m(\u001b[0m\u001b[0mtarget_final\u001b[0m\u001b[0;34m,\u001b[0m\u001b[0mfinal_preds3\u001b[0m\u001b[0;34m)\u001b[0m\u001b[0;34m\u001b[0m\u001b[0m\n",
      "\u001b[0;31mNameError\u001b[0m: name 'final_preds' is not defined"
     ]
    }
   ],
   "source": [
    "#Weight each model by above logic\n",
    "final_preds3 = final_preds(predictions,weights3)\n",
    "\n",
    "#Accuracy\n",
    "accuracy_score(target_final,final_preds3)"
   ]
  },
  {
   "cell_type": "code",
   "execution_count": 28,
   "metadata": {},
   "outputs": [],
   "source": [
    "#Apply exponential to weights3\n",
    "\n",
    "weights4 = []\n",
    "\n",
    "for i in weights3:\n",
    "    weights4.append(np.exp(i)-1)"
   ]
  },
  {
   "cell_type": "code",
   "execution_count": 96,
   "metadata": {},
   "outputs": [
    {
     "data": {
      "text/plain": [
       "0.8529411764705882"
      ]
     },
     "execution_count": 96,
     "metadata": {},
     "output_type": "execute_result"
    }
   ],
   "source": [
    "#Weight each model by scaled weight\n",
    "final_preds4 = final_preds(predictions,weights4)\n",
    "\n",
    "#Accuracy\n",
    "accuracy_score(target_final,final_preds4)"
   ]
  },
  {
   "cell_type": "code",
   "execution_count": 106,
   "metadata": {},
   "outputs": [],
   "source": [
    "def ensemble(predictions,weights,target):\n",
    "    acc_list = []\n",
    "    for i in range(len(predictions)):\n",
    "        ens_preds = final_preds(predictions[:(i+1)],weights[:(i+1)])\n",
    "        acc_list.append(accuracy_score(target,ens_preds))\n",
    "    return acc_list"
   ]
  },
  {
   "cell_type": "code",
   "execution_count": 107,
   "metadata": {},
   "outputs": [],
   "source": [
    "acc_list1 = ensemble(predictions,weights1,target_final)"
   ]
  },
  {
   "cell_type": "code",
   "execution_count": 114,
   "metadata": {},
   "outputs": [],
   "source": [
    "acc_list2 = ensemble(predictions,accuracies,target_final)"
   ]
  },
  {
   "cell_type": "code",
   "execution_count": 117,
   "metadata": {},
   "outputs": [],
   "source": [
    "acc_list3 = ensemble(predictions,weights3,target_final)"
   ]
  },
  {
   "cell_type": "code",
   "execution_count": 118,
   "metadata": {},
   "outputs": [],
   "source": [
    "acc_list4 = ensemble(predictions,weights4,target_final)"
   ]
  },
  {
   "cell_type": "code",
   "execution_count": 129,
   "metadata": {},
   "outputs": [
    {
     "data": {
      "text/plain": [
       "<matplotlib.legend.Legend at 0x1a3443c780>"
      ]
     },
     "execution_count": 129,
     "metadata": {},
     "output_type": "execute_result"
    },
    {
     "data": {
      "image/png": "[encoded data removed]",
      "text/plain": [
       "<matplotlib.figure.Figure at 0x1a341fcfd0>"
      ]
     },
     "metadata": {},
     "output_type": "display_data"
    }
   ],
   "source": [
    "plt.figure(figsize = (16,8))\n",
    "\n",
    "plt.plot(acc_list1,color='red',label='Equal')\n",
    "plt.plot(acc_list2,'b--',label='Accuracy')\n",
    "plt.plot(acc_list3,color='green',label='ReLu_Lin')\n",
    "plt.plot(acc_list4,color='yellow',label='ReLu_Exp')\n",
    "\n",
    "plt.title('Accuracy vs. # of Models')\n",
    "plt.xlabel('# of Models')\n",
    "plt.ylabel('Accuracy')\n",
    "plt.ylim(bottom=0.4)\n",
    "plt.legend()"
   ]
  },
  {
   "cell_type": "markdown",
   "metadata": {},
   "source": [
    "# Scoring Genes"
   ]
  },
  {
   "cell_type": "code",
   "execution_count": 23,
   "metadata": {},
   "outputs": [],
   "source": [
    "num_genes = len(df.columns)\n",
    "\n",
    "gene_ave = pd.Series(data=np.zeros(num_genes),index=df.columns)"
   ]
  },
  {
   "cell_type": "code",
   "execution_count": 29,
   "metadata": {},
   "outputs": [],
   "source": [
    "#If a gene is used in a model, add that model's weight to the gene's score\n",
    "\n",
    "for i in gene_ave.index:\n",
    "    count = 0\n",
    "    for j in range(len(genes)):\n",
    "        if i in genes[j]:\n",
    "            gene_ave[i] = ((gene_ave[i]*count) + weights4[j]) / (count + 1)\n",
    "            count += 1"
   ]
  },
  {
   "cell_type": "code",
   "execution_count": 30,
   "metadata": {},
   "outputs": [
    {
     "name": "stdout",
     "output_type": "stream",
     "text": [
      "Gene Accession Number\n",
      "M84526_at         0.130503\n",
      "M27891_at         0.098724\n",
      "X17042_at         0.085896\n",
      "M96326_rna1_at    0.081391\n",
      "M19507_at         0.075443\n",
      "M11147_at         0.072073\n",
      "L19161_at         0.068326\n",
      "M27783_s_at       0.068207\n",
      "J03909_at         0.066297\n",
      "D38024_at         0.064881\n",
      "dtype: float64\n"
     ]
    }
   ],
   "source": [
    "print(gene_ave.nlargest(10))"
   ]
  },
  {
   "cell_type": "markdown",
   "metadata": {},
   "source": [
    "# Linear Classifers of Top 50"
   ]
  },
  {
   "cell_type": "code",
   "execution_count": 163,
   "metadata": {},
   "outputs": [],
   "source": [
    "top50 = gene_score.nlargest(50).index"
   ]
  },
  {
   "cell_type": "code",
   "execution_count": 164,
   "metadata": {},
   "outputs": [],
   "source": [
    "train50 = train.loc[:,top50]\n",
    "test50 = test.loc[:,top50]"
   ]
  },
  {
   "cell_type": "code",
   "execution_count": 165,
   "metadata": {},
   "outputs": [],
   "source": [
    "#Test different numbers of neighbors\n",
    "n = 10\n",
    "KNN_acc = []\n",
    "for i in range(n):\n",
    "    KNN_model = KNeighborsClassifier(n_neighbors=i+1)\n",
    "    KNN_model.fit(train50,target_train)\n",
    "    KNN_preds = KNN_model.predict(test50)\n",
    "    KNN_acc.append(accuracy_score(target_test,KNN_preds))"
   ]
  },
  {
   "cell_type": "code",
   "execution_count": 167,
   "metadata": {},
   "outputs": [
    {
     "data": {
      "text/plain": [
       "0.9411764705882353"
      ]
     },
     "execution_count": 167,
     "metadata": {},
     "output_type": "execute_result"
    }
   ],
   "source": [
    "KNN_model = KNeighborsClassifier(n_neighbors=3)\n",
    "KNN_model.fit(train50,target_train)\n",
    "KNN_preds = KNN_model.predict(test50)\n",
    "accuracy_score(target_test,KNN_preds)"
   ]
  },
  {
   "cell_type": "code",
   "execution_count": 215,
   "metadata": {},
   "outputs": [
    {
     "data": {
      "text/plain": [
       "0.9411764705882353"
      ]
     },
     "execution_count": 215,
     "metadata": {},
     "output_type": "execute_result"
    }
   ],
   "source": [
    "SVM_model = SVC(C= 1, kernel='linear')\n",
    "SVM_model.fit(train50,target_train)\n",
    "SVM_preds = SVM_model.predict(test50)\n",
    "accuracy_score(target_test,SVM_preds)"
   ]
  },
  {
   "cell_type": "markdown",
   "metadata": {},
   "source": [
    "# Compare Top 50 to Paper's Top 50"
   ]
  },
  {
   "cell_type": "code",
   "execution_count": 43,
   "metadata": {},
   "outputs": [],
   "source": [
    "golub_genes = ['U22376','X59417','U05259','M92287','M31211',\n",
    "               'X74262','D26156','S50223','M31523','L47738',\n",
    "               'U32944','Z15115','X15949','X63469','M91432',\n",
    "               'U29175','Z69881','U20998','D38073','U26266',\n",
    "               'M31303','Y08612','U35451','M29696','M13792',\n",
    "               'M55150','X95735','U50136','M16038','U82759',\n",
    "               'M23197','M84526','Y12670','M27891','X17042',\n",
    "               'Y00787','M96326','U46751','M80254','L08246',\n",
    "               'M62762','M28130','M63138','M57710','M69043',\n",
    "               'M81695','X85116','M19045','M83652','X04085']"
   ]
  },
  {
   "cell_type": "code",
   "execution_count": 144,
   "metadata": {},
   "outputs": [],
   "source": [
    "my50_id = [i[:6] for i in gene_ave.nlargest(50).index]"
   ]
  },
  {
   "cell_type": "code",
   "execution_count": 145,
   "metadata": {},
   "outputs": [
    {
     "name": "stdout",
     "output_type": "stream",
     "text": [
      "7\n"
     ]
    }
   ],
   "source": [
    "count = 0\n",
    "for i in my50_id:\n",
    "    if i in golub_genes:\n",
    "        count += 1\n",
    "print(count)"
   ]
  },
  {
   "cell_type": "markdown",
   "metadata": {},
   "source": [
    "# Optimize KNN model"
   ]
  },
  {
   "cell_type": "code",
   "execution_count": 190,
   "metadata": {},
   "outputs": [],
   "source": [
    "gene_id = [i[:6] for i in df.columns]"
   ]
  },
  {
   "cell_type": "code",
   "execution_count": 131,
   "metadata": {},
   "outputs": [],
   "source": [
    "top10 = gene_ave.nlargest(50).index"
   ]
  },
  {
   "cell_type": "code",
   "execution_count": 160,
   "metadata": {},
   "outputs": [],
   "source": [
    "train10 = train.loc[:,top10]\n",
    "test10 = test.loc[:,top10]\n",
    "df10 = df.loc[:,top10]"
   ]
  },
  {
   "cell_type": "code",
   "execution_count": 133,
   "metadata": {},
   "outputs": [],
   "source": [
    "#Test different numbers of neighbors\n",
    "n = 10\n",
    "KNN_acc50 = []\n",
    "for i in range(n):\n",
    "    KNN_model = KNeighborsClassifier(n_neighbors=i+1)\n",
    "    cv = cross_val_score(KNN_model,train10,target_train,cv=5)\n",
    "    KNN_acc50.append(cv.mean())"
   ]
  },
  {
   "cell_type": "code",
   "execution_count": 121,
   "metadata": {},
   "outputs": [
    {
     "data": {
      "text/plain": [
       "<matplotlib.legend.Legend at 0x1a35b32b00>"
      ]
     },
     "execution_count": 121,
     "metadata": {},
     "output_type": "execute_result"
    },
    {
     "data": {
      "image/png": "[encoded data removed]",
      "text/plain": [
       "<matplotlib.figure.Figure at 0x1a35ea0518>"
      ]
     },
     "metadata": {},
     "output_type": "display_data"
    }
   ],
   "source": [
    "plt.figure(figsize=(12,6))\n",
    "\n",
    "plt.plot(KNN_acc1, color='red',marker='o', label='1')\n",
    "plt.plot(KNN_acc3, color='blue',marker='o', label='3')\n",
    "plt.plot(KNN_acc5, color='yellow',marker='o', label='5')\n",
    "plt.plot(KNN_acc10, color='green',marker='o', label='10')\n",
    "plt.plot(KNN_acc50, color='orange',marker='o', label='50')\n",
    "\n",
    "plt.title('Accuracy vs. # of Neighbors')\n",
    "plt.xlabel('# of Neighbors')\n",
    "plt.ylabel('Accuracy')\n",
    "plt.ylim(bottom=0.825)\n",
    "plt.legend()"
   ]
  },
  {
   "cell_type": "markdown",
   "metadata": {},
   "source": [
    "# Stats on genes"
   ]
  },
  {
   "cell_type": "code",
   "execution_count": 136,
   "metadata": {},
   "outputs": [],
   "source": [
    "from scipy import stats"
   ]
  },
  {
   "cell_type": "code",
   "execution_count": 142,
   "metadata": {},
   "outputs": [],
   "source": [
    "p_vals = []\n",
    "\n",
    "for i in top10:\n",
    "    weight_arr = []\n",
    "    for j in range(len(genes)):\n",
    "        if i in genes[j]:\n",
    "            weight_arr.append(weights4[j])\n",
    "    p = stats.ttest_1samp(weight_arr,0)[1]\n",
    "    p_vals.append(p)"
   ]
  },
  {
   "cell_type": "code",
   "execution_count": 155,
   "metadata": {},
   "outputs": [
    {
     "data": {
      "image/png": "[encoded data removed]",
      "text/plain": [
       "<matplotlib.figure.Figure at 0x1a36a319b0>"
      ]
     },
     "metadata": {},
     "output_type": "display_data"
    }
   ],
   "source": [
    "plt.figure(figsize=(5,3))\n",
    "sns.heatmap(df10.corr(),cmap='coolwarm',xticklabels=False,yticklabels=False)\n",
    "plt.tight_layout()"
   ]
  },
  {
   "cell_type": "code",
   "execution_count": null,
   "metadata": {},
   "outputs": [],
   "source": []
  }
 ],
 "metadata": {
  "kernelspec": {
   "display_name": "Python 3",
   "language": "python",
   "name": "python3"
  },
  "language_info": {
   "codemirror_mode": {
    "name": "ipython",
    "version": 3
   },
   "file_extension": ".py",
   "mimetype": "text/x-python",
   "name": "python",
   "nbconvert_exporter": "python",
   "pygments_lexer": "ipython3",
   "version": "3.6.4"
  }
 },
 "nbformat": 4,
 "nbformat_minor": 2
}
